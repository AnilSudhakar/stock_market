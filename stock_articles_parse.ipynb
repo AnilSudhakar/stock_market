{
 "cells": [
  {
   "cell_type": "code",
   "execution_count": null,
   "metadata": {},
   "outputs": [],
   "source": [
    "from stock_article import StockArticle\n",
    "from utility import HTMLParser\n",
    "from utility import FileSaver\n",
    "\n",
    "stock_article = StockArticle()\n",
    "\n",
    "news = stock_article.fetch_news(\"Google\", news_count=10)\n",
    "\n",
    "html_parser = HTMLParser()\n",
    "file_saver = FileSaver()\n",
    "for item in news:\n",
    "    html_parser.parse_html(item[\"link\"])\n",
    "    file_name = html_parser.get_title() + \".txt\"\n",
    "    parsed_content = html_parser.get_paragraphs()\n",
    "    file_saver.save_to_file(\"google\", parsed_content, file_name)\n"
   ]
  },
  {
   "cell_type": "code",
   "execution_count": 32,
   "metadata": {},
   "outputs": [],
   "source": [
    "import re\n",
    "import requests\n",
    "import pandas as pd\n",
    "from bs4 import BeautifulSoup\n",
    "\n",
    "url = \"https://www.quiverquant.com/congresstrading/politician/Nancy%20Pelosi-P000197\"\n",
    "response = requests.get(url)\n",
    "\n",
    "soup = BeautifulSoup(response.content, \"html.parser\")\n",
    "\n",
    "trade_data = []\n",
    "for script in soup.find_all(\"script\"):\n",
    "    if script.string and \"let tradeData\" in script.string:\n",
    "        trade_data_script = script.string\n",
    "        break\n",
    "\n",
    "\n",
    "trade_data_json = re.search(r\"let tradeData = (\\[.*?\\]);\", trade_data_script, re.DOTALL).group(1)\n",
    "trade_data_json = trade_data_json.replace('null', 'None').replace('NaN', 'float(\"nan\")')\n",
    "trade_data = eval(trade_data_json)\n",
    "\n",
    "# Create a DataFrame\n",
    "columns = [\"Stock\", \"Transaction\", \"Filled\", \"Traded\", \"Description\", \"Change\", \"Politician\", \"ID\", \"Company\", \"Type\", \"Amount\", \"Chamber\", \"Party\", \"Sector\", \"Value\"]\n",
    "df = pd.DataFrame(trade_data, columns=columns)\n",
    "\n",
    "df.to_excel(\"nancy_pelosi.xlsx\", index=False)\n"
   ]
  }
 ],
 "metadata": {
  "kernelspec": {
   "display_name": ".venv",
   "language": "python",
   "name": "python3"
  },
  "language_info": {
   "codemirror_mode": {
    "name": "ipython",
    "version": 3
   },
   "file_extension": ".py",
   "mimetype": "text/x-python",
   "name": "python",
   "nbconvert_exporter": "python",
   "pygments_lexer": "ipython3",
   "version": "3.12.9"
  }
 },
 "nbformat": 4,
 "nbformat_minor": 2
}
