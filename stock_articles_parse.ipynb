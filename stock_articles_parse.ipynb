{
 "cells": [
  {
   "cell_type": "code",
   "execution_count": 1,
   "metadata": {},
   "outputs": [
    {
     "name": "stdout",
     "output_type": "stream",
     "text": [
      "Parsing HTML from: https://finance.yahoo.com/m/b538a944-b109-341f-b1fc-c2fdd585881b/google-employees-are-testing.html\n",
      "Saving to file: output/google_employees_are_testing_new_ai_mode_search_feature.txt\n",
      "Parsing HTML from: https://finance.yahoo.com/m/3412ea55-83f4-31bf-bad8-420eedf033d7/google-messages-might-let-you.html\n",
      "Saving to file: output/google_messages_might_let_you_unsend_awkward_messages_in_rcs_chats.txt\n",
      "Parsing HTML from: https://finance.yahoo.com/m/13ae0e9c-7fd1-31d0-858d-4b3358c4350d/byte-sized-ai%3A-ai-in-google%E2%80%99s.html\n",
      "Saving to file: output/byte-sized_ai:_ai_in_google’s_earnings,_more_supply_chain_tech_upgrades.txt\n",
      "Parsing HTML from: https://finance.yahoo.com/m/33a0582f-4501-3678-9994-0340c5200255/you-can-officially-download.html\n",
      "Saving to file: output/you_can_officially_download_the_tiktok_app_again_on_android_phones.txt\n",
      "Parsing HTML from: https://finance.yahoo.com/m/8c427a33-89c6-4d0e-9dac-66764d87cd5f/google%27s-pixel-buds-pro-2-are.html\n",
      "Saving to file: output/google's_pixel_buds_pro_2_are_$40_off_right_now.txt\n",
      "Parsing HTML from: https://finance.yahoo.com/m/41ab1568-3880-3797-bcbc-4469e28adba1/why-the-%27spirit%27-of-open.html\n",
      "Saving to file: output/why_the_'spirit'_of_open_source_means_much_more_than_a_license.txt\n",
      "Parsing HTML from: https://finance.yahoo.com/m/6bbd3c86-25d7-3cb1-961c-3a21a061e9a5/super-bowl-2025-commercials%3A.html\n",
      "Saving to file: output/super_bowl_2025_commercials:_budweiser,_google_and_more_ads_released_so_far.txt\n",
      "Parsing HTML from: https://finance.yahoo.com/m/5daec971-4a94-3e40-8bed-a636eadac534/google-contracts-over-%24100m.html\n",
      "Saving to file: output/google_contracts_over_$100m_in_carbon_removal_credits_in_2024.txt\n",
      "Parsing HTML from: https://finance.yahoo.com/m/9a4e22b7-4871-3694-8495-c81c63cdbfd0/alphabet-capital-spending.html\n",
      "Saving to file: output/alphabet_capital_spending_spurs_sell_off._here's_how_google_stock_can_rebound..txt\n",
      "Parsing HTML from: https://finance.yahoo.com/m/61fa0bd8-d8fa-35ef-b756-0f9d206fb1ed/andrew-ng-is-%27very-glad%27.html\n",
      "Saving to file: output/andrew_ng_is_'very_glad'_google_dropped_its_ai_weapons_pledge.txt\n"
     ]
    }
   ],
   "source": [
    "from stock_article import StockArticle\n",
    "from utility import HTMLParser\n",
    "from utility import FileSaver\n",
    "\n",
    "stock_article = StockArticle()\n",
    "\n",
    "news = stock_article.fetch_news(\"Google\", news_count=10)\n",
    "\n",
    "html_parser = HTMLParser()\n",
    "file_saver = FileSaver()\n",
    "for item in news:\n",
    "    html_parser.parse_html(item[\"link\"])\n",
    "    file_name = html_parser.get_title() + \".txt\"\n",
    "    parsed_content = html_parser.get_paragraphs()\n",
    "    file_saver.save_to_file(parsed_content, file_name)\n"
   ]
  }
 ],
 "metadata": {
  "kernelspec": {
   "display_name": ".venv",
   "language": "python",
   "name": "python3"
  },
  "language_info": {
   "codemirror_mode": {
    "name": "ipython",
    "version": 3
   },
   "file_extension": ".py",
   "mimetype": "text/x-python",
   "name": "python",
   "nbconvert_exporter": "python",
   "pygments_lexer": "ipython3",
   "version": "3.12.7"
  }
 },
 "nbformat": 4,
 "nbformat_minor": 2
}
