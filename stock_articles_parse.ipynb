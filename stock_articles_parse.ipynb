{
 "cells": [
  {
   "cell_type": "code",
   "execution_count": null,
   "metadata": {},
   "outputs": [],
   "source": [
    "import sys\n",
    "from stock_article import StockArticle\n",
    "from utility.html_parser import HTMLParser\n",
    "from utility.file_saver import FileSaver\n",
    "from utility.data_frame_creator import DataFrameCreator\n",
    "\n",
    "stock_article = StockArticle()\n",
    "\n",
    "try:\n",
    "    news = stock_article.fetch_news(\"Google\", news_count=10)\n",
    "except Exception as e:\n",
    "    print(\"Rate limit exceeded. Please try again later.\")\n",
    "    sys.exit(1)\n",
    "\n",
    "html_parser = HTMLParser()\n",
    "file_saver = FileSaver(\"output\")\n",
    "for item in news:\n",
    "    html_parser.parse_html(item[\"link\"])\n",
    "    file_name = html_parser.get_title() + \".txt\"\n",
    "    parsed_content = html_parser.get_paragraphs()\n",
    "    file_saver.save_to_file(\"google\", parsed_content, file_name)\n"
   ]
  },
  {
   "cell_type": "code",
   "execution_count": null,
   "metadata": {},
   "outputs": [],
   "source": [
    "html_parser = HTMLParser()\n",
    "data_frame_creator = DataFrameCreator()\n",
    "file_saver = FileSaver(\"quiver_qunatitatives\")\n",
    "\n",
    "url = \"https://www.quiverquant.com/congresstrading/politician/Nancy%20Pelosi-P000197\"\n",
    "html_parser.parse_html(url)\n",
    "trade_data = html_parser.extract_data(\"script\", \"let tradeData\")\n",
    "\n",
    "if trade_data:\n",
    "    columns = [\"Stock\", \"Transaction\", \"Filled\", \"Traded\", \"Description\", \"Change\", \"Politician\", \"ID\", \"Company\", \"Type\", \"Amount\", \"Chamber\", \"Party\", \"Sector\", \"Value\"]\n",
    "    df = data_frame_creator.create_data_frame(trade_data, columns)\n",
    "    file_saver.save_to_excel(df, \"nancy_pelosi\")\n"
   ]
  }
 ],
 "metadata": {
  "kernelspec": {
   "display_name": ".venv",
   "language": "python",
   "name": "python3"
  },
  "language_info": {
   "codemirror_mode": {
    "name": "ipython",
    "version": 3
   },
   "file_extension": ".py",
   "mimetype": "text/x-python",
   "name": "python",
   "nbconvert_exporter": "python",
   "pygments_lexer": "ipython3",
   "version": "3.12.9"
  }
 },
 "nbformat": 4,
 "nbformat_minor": 2
}
